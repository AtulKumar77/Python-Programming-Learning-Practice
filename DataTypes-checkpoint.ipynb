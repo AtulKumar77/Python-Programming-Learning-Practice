{
 "cells": [
  {
   "cell_type": "code",
   "execution_count": 4,
   "id": "4bccc8f8",
   "metadata": {},
   "outputs": [
    {
     "name": "stdout",
     "output_type": "stream",
     "text": [
      "Hello Sir\n"
     ]
    }
   ],
   "source": [
    "# How to define a String in python:- \n",
    "\n",
    "print('Hello Sir')"
   ]
  },
  {
   "cell_type": "code",
   "execution_count": 3,
   "id": "9a96f5f4",
   "metadata": {},
   "outputs": [
    {
     "name": "stdout",
     "output_type": "stream",
     "text": [
      "Hello \n",
      "Atul\n"
     ]
    }
   ],
   "source": [
    "print('Hello \\nAtul')"
   ]
  },
  {
   "cell_type": "code",
   "execution_count": 5,
   "id": "9f87255f",
   "metadata": {},
   "outputs": [
    {
     "name": "stdout",
     "output_type": "stream",
     "text": [
      "Hello \tAtul\n"
     ]
    }
   ],
   "source": [
    "print('Hello \\tAtul')"
   ]
  },
  {
   "cell_type": "code",
   "execution_count": 12,
   "id": "b967c6c2",
   "metadata": {},
   "outputs": [],
   "source": [
    "# How to define string properties and Methods in python :- \n",
    "\n",
    "name = 'sam'"
   ]
  },
  {
   "cell_type": "code",
   "execution_count": 20,
   "id": "9961d23f",
   "metadata": {},
   "outputs": [],
   "source": [
    "last = name[1:]"
   ]
  },
  {
   "cell_type": "code",
   "execution_count": 21,
   "id": "d1f46082",
   "metadata": {},
   "outputs": [
    {
     "data": {
      "text/plain": [
       "'am'"
      ]
     },
     "execution_count": 21,
     "metadata": {},
     "output_type": "execute_result"
    }
   ],
   "source": [
    "last"
   ]
  },
  {
   "cell_type": "code",
   "execution_count": 23,
   "id": "128e27de",
   "metadata": {},
   "outputs": [
    {
     "data": {
      "text/plain": [
       "'Pam'"
      ]
     },
     "execution_count": 23,
     "metadata": {},
     "output_type": "execute_result"
    }
   ],
   "source": [
    "'P' + last"
   ]
  },
  {
   "cell_type": "code",
   "execution_count": 24,
   "id": "91e80199",
   "metadata": {},
   "outputs": [],
   "source": [
    "x = 'Hello World'"
   ]
  },
  {
   "cell_type": "code",
   "execution_count": 34,
   "id": "34cfa199",
   "metadata": {},
   "outputs": [],
   "source": [
    "x = x + ' it is outside beautiful!'"
   ]
  },
  {
   "cell_type": "code",
   "execution_count": 36,
   "id": "00472be4",
   "metadata": {},
   "outputs": [
    {
     "data": {
      "text/plain": [
       "'Hello World it is outside beautiful outside it is outside beautiful! it is outside beautiful! it is outside beautiful!'"
      ]
     },
     "execution_count": 36,
     "metadata": {},
     "output_type": "execute_result"
    }
   ],
   "source": [
    "x"
   ]
  },
  {
   "cell_type": "code",
   "execution_count": 48,
   "id": "70bd7aa0",
   "metadata": {},
   "outputs": [],
   "source": [
    "# List in Python:- \n",
    "\n",
    "my_list =  ['One','Two','Three']\n",
    "another_list = ['Four','Five']"
   ]
  },
  {
   "cell_type": "code",
   "execution_count": 52,
   "id": "ab4f599e",
   "metadata": {},
   "outputs": [],
   "source": [
    "new_list = my_list + another_list"
   ]
  },
  {
   "cell_type": "code",
   "execution_count": 53,
   "id": "e5846c0a",
   "metadata": {},
   "outputs": [
    {
     "data": {
      "text/plain": [
       "['One', 'Two', 'Three', 'Four', 'Five']"
      ]
     },
     "execution_count": 53,
     "metadata": {},
     "output_type": "execute_result"
    }
   ],
   "source": [
    "new_list"
   ]
  },
  {
   "cell_type": "code",
   "execution_count": 54,
   "id": "e6c8b157",
   "metadata": {},
   "outputs": [],
   "source": [
    "new_list[0] = 'ONE ALL CAPS'"
   ]
  },
  {
   "cell_type": "code",
   "execution_count": 55,
   "id": "e0f1242b",
   "metadata": {},
   "outputs": [
    {
     "data": {
      "text/plain": [
       "['ONE ALL CAPS', 'Two', 'Three', 'Four', 'Five']"
      ]
     },
     "execution_count": 55,
     "metadata": {},
     "output_type": "execute_result"
    }
   ],
   "source": [
    "new_list"
   ]
  },
  {
   "cell_type": "code",
   "execution_count": 56,
   "id": "14272e51",
   "metadata": {},
   "outputs": [],
   "source": [
    "new_list.append('six')"
   ]
  },
  {
   "cell_type": "code",
   "execution_count": 57,
   "id": "3441bb5d",
   "metadata": {},
   "outputs": [
    {
     "data": {
      "text/plain": [
       "['ONE ALL CAPS', 'Two', 'Three', 'Four', 'Five', 'six']"
      ]
     },
     "execution_count": 57,
     "metadata": {},
     "output_type": "execute_result"
    }
   ],
   "source": [
    "new_list"
   ]
  },
  {
   "cell_type": "code",
   "execution_count": 58,
   "id": "819c22d3",
   "metadata": {},
   "outputs": [
    {
     "data": {
      "text/plain": [
       "'six'"
      ]
     },
     "execution_count": 58,
     "metadata": {},
     "output_type": "execute_result"
    }
   ],
   "source": [
    "new_list.pop()"
   ]
  },
  {
   "cell_type": "code",
   "execution_count": 59,
   "id": "03e83a87",
   "metadata": {},
   "outputs": [],
   "source": [
    "list = ['b','a','d','c']\n"
   ]
  },
  {
   "cell_type": "code",
   "execution_count": 60,
   "id": "383140d1",
   "metadata": {},
   "outputs": [],
   "source": [
    "list.sort()"
   ]
  },
  {
   "cell_type": "code",
   "execution_count": 61,
   "id": "1163a8e4",
   "metadata": {},
   "outputs": [
    {
     "data": {
      "text/plain": [
       "['a', 'b', 'c', 'd']"
      ]
     },
     "execution_count": 61,
     "metadata": {},
     "output_type": "execute_result"
    }
   ],
   "source": [
    "list"
   ]
  },
  {
   "cell_type": "code",
   "execution_count": 63,
   "id": "ff2d5795",
   "metadata": {},
   "outputs": [
    {
     "data": {
      "text/plain": [
       "50"
      ]
     },
     "execution_count": 63,
     "metadata": {},
     "output_type": "execute_result"
    }
   ],
   "source": [
    "# Dictionaries in python :-\n",
    "\n",
    "prices_lookup = {'Apple':50, 'Orange':60, 'Banana':70}\n",
    "prices_lookup['Apple']"
   ]
  },
  {
   "cell_type": "code",
   "execution_count": null,
   "id": "b64cf7ac",
   "metadata": {},
   "outputs": [],
   "source": []
  }
 ],
 "metadata": {
  "kernelspec": {
   "display_name": "Python 3 (ipykernel)",
   "language": "python",
   "name": "python3"
  },
  "language_info": {
   "codemirror_mode": {
    "name": "ipython",
    "version": 3
   },
   "file_extension": ".py",
   "mimetype": "text/x-python",
   "name": "python",
   "nbconvert_exporter": "python",
   "pygments_lexer": "ipython3",
   "version": "3.11.4"
  }
 },
 "nbformat": 4,
 "nbformat_minor": 5
}
