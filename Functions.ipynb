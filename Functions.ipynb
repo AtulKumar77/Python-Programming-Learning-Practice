{
 "cells": [
  {
   "cell_type": "code",
   "execution_count": 3,
   "id": "a4e2b9d4",
   "metadata": {},
   "outputs": [],
   "source": [
    "# 1.Functions in python :-\n",
    "\n",
    "def say_name():\n",
    "    print('hello')\n",
    "    print('who')\n",
    "    print('are')\n",
    "    print('you')"
   ]
  },
  {
   "cell_type": "code",
   "execution_count": 4,
   "id": "cbbc3658",
   "metadata": {},
   "outputs": [
    {
     "name": "stdout",
     "output_type": "stream",
     "text": [
      "hello\n",
      "who\n",
      "are\n",
      "you\n"
     ]
    }
   ],
   "source": [
    "say_name()"
   ]
  },
  {
   "cell_type": "code",
   "execution_count": 5,
   "id": "770397c6",
   "metadata": {},
   "outputs": [],
   "source": [
    "# 2.Function in python:-\n",
    "\n",
    "def say_hello(name):\n",
    "    print(f'Hello {name}')"
   ]
  },
  {
   "cell_type": "code",
   "execution_count": 6,
   "id": "6e5cc65a",
   "metadata": {},
   "outputs": [
    {
     "name": "stdout",
     "output_type": "stream",
     "text": [
      "Hello atul\n"
     ]
    }
   ],
   "source": [
    "say_hello('atul')"
   ]
  },
  {
   "cell_type": "code",
   "execution_count": 7,
   "id": "1c81967a",
   "metadata": {},
   "outputs": [],
   "source": [
    "# 3. function in python:-\n",
    "def say_string(name = 'Atul'):\n",
    "    print(f'Hello \\n{name}')"
   ]
  },
  {
   "cell_type": "code",
   "execution_count": 8,
   "id": "68785f1c",
   "metadata": {},
   "outputs": [
    {
     "name": "stdout",
     "output_type": "stream",
     "text": [
      "Hello \n",
      "Atul\n"
     ]
    }
   ],
   "source": [
    "say_string()"
   ]
  },
  {
   "cell_type": "code",
   "execution_count": 9,
   "id": "89e616f7",
   "metadata": {},
   "outputs": [],
   "source": [
    "# 4. function in python Peramater pass :-\n",
    "\n",
    "def print_value(num1,num2):\n",
    "    print(num1+num2)"
   ]
  },
  {
   "cell_type": "code",
   "execution_count": 12,
   "id": "385520a6",
   "metadata": {},
   "outputs": [
    {
     "name": "stdout",
     "output_type": "stream",
     "text": [
      "25\n"
     ]
    }
   ],
   "source": [
    "print_value(20,5)"
   ]
  },
  {
   "cell_type": "code",
   "execution_count": 13,
   "id": "035b6c35",
   "metadata": {},
   "outputs": [],
   "source": [
    "# 5 function in python :-\n",
    "\n",
    "def return_value(num1,num2):\n",
    "    return num1 + num2"
   ]
  },
  {
   "cell_type": "code",
   "execution_count": 14,
   "id": "e04239ee",
   "metadata": {},
   "outputs": [
    {
     "data": {
      "text/plain": [
       "50"
      ]
     },
     "execution_count": 14,
     "metadata": {},
     "output_type": "execute_result"
    }
   ],
   "source": [
    "return_value(20,30)"
   ]
  },
  {
   "cell_type": "code",
   "execution_count": 15,
   "id": "e84ded52",
   "metadata": {},
   "outputs": [],
   "source": [
    "# 6. even or odd num chech function in python :-\n",
    "\n",
    "def even_check(number):\n",
    "    result = number % 2 == 0\n",
    "    return result"
   ]
  },
  {
   "cell_type": "code",
   "execution_count": 16,
   "id": "76e0fa49",
   "metadata": {},
   "outputs": [
    {
     "data": {
      "text/plain": [
       "True"
      ]
     },
     "execution_count": 16,
     "metadata": {},
     "output_type": "execute_result"
    }
   ],
   "source": [
    "even_check(32)"
   ]
  },
  {
   "cell_type": "code",
   "execution_count": 18,
   "id": "0735aa88",
   "metadata": {},
   "outputs": [],
   "source": [
    "# 7. \n",
    "\n",
    "def check_even_list(num_list):\n",
    "    for number in num_list:\n",
    "        if number % 2 == 0:\n",
    "            return True\n",
    "        else:\n",
    "            pass\n",
    "        return False"
   ]
  },
  {
   "cell_type": "code",
   "execution_count": 19,
   "id": "304d40a1",
   "metadata": {},
   "outputs": [
    {
     "data": {
      "text/plain": [
       "True"
      ]
     },
     "execution_count": 19,
     "metadata": {},
     "output_type": "execute_result"
    }
   ],
   "source": [
    "check_even_list([2,3,5,6])"
   ]
  }
 ],
 "metadata": {
  "kernelspec": {
   "display_name": "Python 3 (ipykernel)",
   "language": "python",
   "name": "python3"
  },
  "language_info": {
   "codemirror_mode": {
    "name": "ipython",
    "version": 3
   },
   "file_extension": ".py",
   "mimetype": "text/x-python",
   "name": "python",
   "nbconvert_exporter": "python",
   "pygments_lexer": "ipython3",
   "version": "3.11.4"
  }
 },
 "nbformat": 4,
 "nbformat_minor": 5
}
