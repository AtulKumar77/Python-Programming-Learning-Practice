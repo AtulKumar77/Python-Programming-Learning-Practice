{
 "cells": [
  {
   "cell_type": "code",
   "execution_count": 1,
   "id": "a4c7118d",
   "metadata": {},
   "outputs": [
    {
     "data": {
      "text/plain": [
       "10"
      ]
     },
     "execution_count": 1,
     "metadata": {},
     "output_type": "execute_result"
    }
   ],
   "source": [
    "# Lenth Function in Python:-\n",
    "\n",
    "len('Hello Atul')\n"
   ]
  },
  {
   "cell_type": "code",
   "execution_count": 2,
   "id": "99f921a4",
   "metadata": {},
   "outputs": [],
   "source": [
    "# Indexing function in python:-\n",
    "\n",
    "mystring = \"Atul\""
   ]
  },
  {
   "cell_type": "code",
   "execution_count": 3,
   "id": "0216a79b",
   "metadata": {},
   "outputs": [
    {
     "data": {
      "text/plain": [
       "'Atul'"
      ]
     },
     "execution_count": 3,
     "metadata": {},
     "output_type": "execute_result"
    }
   ],
   "source": [
    "mystring"
   ]
  },
  {
   "cell_type": "code",
   "execution_count": 5,
   "id": "30142ca8",
   "metadata": {},
   "outputs": [
    {
     "data": {
      "text/plain": [
       "'l'"
      ]
     },
     "execution_count": 5,
     "metadata": {},
     "output_type": "execute_result"
    }
   ],
   "source": [
    "mystring[3]"
   ]
  },
  {
   "cell_type": "code",
   "execution_count": 13,
   "id": "06b9b15a",
   "metadata": {},
   "outputs": [
    {
     "data": {
      "text/plain": [
       "'t'"
      ]
     },
     "execution_count": 13,
     "metadata": {},
     "output_type": "execute_result"
    }
   ],
   "source": [
    "mystring[-3]"
   ]
  },
  {
   "cell_type": "code",
   "execution_count": 8,
   "id": "26ac6b6b",
   "metadata": {},
   "outputs": [],
   "source": [
    "# Slicing function in Python :- \n",
    "\n",
    "mystring = 'ABCDEFGH'"
   ]
  },
  {
   "cell_type": "code",
   "execution_count": 9,
   "id": "84724cba",
   "metadata": {},
   "outputs": [
    {
     "data": {
      "text/plain": [
       "'ABCDEFGH'"
      ]
     },
     "execution_count": 9,
     "metadata": {},
     "output_type": "execute_result"
    }
   ],
   "source": [
    "mystring"
   ]
  },
  {
   "cell_type": "code",
   "execution_count": 10,
   "id": "74f3aff8",
   "metadata": {},
   "outputs": [
    {
     "data": {
      "text/plain": [
       "'DEFGH'"
      ]
     },
     "execution_count": 10,
     "metadata": {},
     "output_type": "execute_result"
    }
   ],
   "source": [
    "mystring[3:]"
   ]
  },
  {
   "cell_type": "code",
   "execution_count": 11,
   "id": "82fa5dab",
   "metadata": {},
   "outputs": [
    {
     "data": {
      "text/plain": [
       "'ABC'"
      ]
     },
     "execution_count": 11,
     "metadata": {},
     "output_type": "execute_result"
    }
   ],
   "source": [
    "mystring[:3]"
   ]
  },
  {
   "cell_type": "code",
   "execution_count": 20,
   "id": "545206c2",
   "metadata": {},
   "outputs": [
    {
     "data": {
      "text/plain": [
       "'DEF'"
      ]
     },
     "execution_count": 20,
     "metadata": {},
     "output_type": "execute_result"
    }
   ],
   "source": [
    "mystring[3:6]"
   ]
  },
  {
   "cell_type": "code",
   "execution_count": 21,
   "id": "bb4eec77",
   "metadata": {},
   "outputs": [
    {
     "data": {
      "text/plain": [
       "'BC'"
      ]
     },
     "execution_count": 21,
     "metadata": {},
     "output_type": "execute_result"
    }
   ],
   "source": [
    "mystring[1:3]"
   ]
  },
  {
   "cell_type": "code",
   "execution_count": 12,
   "id": "49804dca",
   "metadata": {},
   "outputs": [
    {
     "data": {
      "text/plain": [
       "'ADG'"
      ]
     },
     "execution_count": 12,
     "metadata": {},
     "output_type": "execute_result"
    }
   ],
   "source": [
    "mystring[::3]"
   ]
  },
  {
   "cell_type": "code",
   "execution_count": 24,
   "id": "6fde5e2e",
   "metadata": {},
   "outputs": [
    {
     "data": {
      "text/plain": [
       "'ATUL'"
      ]
     },
     "execution_count": 24,
     "metadata": {},
     "output_type": "execute_result"
    }
   ],
   "source": [
    "# Upper Limit in Python :- \n",
    "\n",
    "x = 'atul'\n",
    "x.upper()    "
   ]
  },
  {
   "cell_type": "code",
   "execution_count": 25,
   "id": "1bfab894",
   "metadata": {},
   "outputs": [
    {
     "data": {
      "text/plain": [
       "'chauhan'"
      ]
     },
     "execution_count": 25,
     "metadata": {},
     "output_type": "execute_result"
    }
   ],
   "source": [
    "# Lower Limit in Python :-\n",
    "x = 'CHAUHAN'\n",
    "x.lower()"
   ]
  },
  {
   "cell_type": "code",
   "execution_count": 13,
   "id": "e85893ce",
   "metadata": {},
   "outputs": [
    {
     "data": {
      "text/plain": [
       "['Hello', 'Atul']"
      ]
     },
     "execution_count": 13,
     "metadata": {},
     "output_type": "execute_result"
    }
   ],
   "source": [
    "# Split Function in Python :-\n",
    "\n",
    "x = 'Hello Atul'\n",
    "x.split()"
   ]
  },
  {
   "cell_type": "code",
   "execution_count": 41,
   "id": "89c19e99",
   "metadata": {},
   "outputs": [
    {
     "name": "stdout",
     "output_type": "stream",
     "text": [
      "The Fox brown quick\n",
      "The quick brown Fox\n",
      "The Fox brown quick\n",
      "This is a string INSERTED\n",
      "Hello, his name is Atul\n"
     ]
    }
   ],
   "source": [
    "# print formatting with String in Python :- \n",
    "# .format()\n",
    "\n",
    "print('The {} {} {}'.format('Fox','brown','quick'))\n",
    "print('The {2} {1} {0}'.format('Fox','brown','quick'))\n",
    "print('The {F} {B} {Q}'.format(F = 'Fox', B = 'brown', Q = 'quick'))\n",
    "print('This is a string {}'.format('INSERTED'))\n",
    "name  = 'Atul'\n",
    "print('Hello, his name is {}'.format(name))"
   ]
  },
  {
   "cell_type": "code",
   "execution_count": 43,
   "id": "d43c536e",
   "metadata": {},
   "outputs": [
    {
     "name": "stdout",
     "output_type": "stream",
     "text": [
      "Hello, his name is Atul\n",
      "Atul is 20 years old.\n"
     ]
    }
   ],
   "source": [
    "# f-String :-\n",
    "\n",
    "print(f'Hello, his name is {name}')\n",
    "\n",
    "name = 'Atul'\n",
    "age = 20\n",
    "print(f'{name} is {age} years old.')"
   ]
  }
 ],
 "metadata": {
  "kernelspec": {
   "display_name": "Python 3 (ipykernel)",
   "language": "python",
   "name": "python3"
  },
  "language_info": {
   "codemirror_mode": {
    "name": "ipython",
    "version": 3
   },
   "file_extension": ".py",
   "mimetype": "text/x-python",
   "name": "python",
   "nbconvert_exporter": "python",
   "pygments_lexer": "ipython3",
   "version": "3.11.4"
  }
 },
 "nbformat": 4,
 "nbformat_minor": 5
}
