{
 "cells": [
  {
   "cell_type": "code",
   "execution_count": 3,
   "id": "15baf711",
   "metadata": {},
   "outputs": [
    {
     "name": "stdout",
     "output_type": "stream",
     "text": [
      "mony is cool!\n"
     ]
    }
   ],
   "source": [
    "# if, eiif and else condition in Python :-\n",
    "# 1. \n",
    "\n",
    "loc = 'Bank'\n",
    "\n",
    "if loc == 'Auto Shop':\n",
    "    print('cars are cool!')\n",
    "elif loc == 'Bank':\n",
    "    print('mony is cool!')\n",
    "else:\n",
    "    print('I do Not know much!.')"
   ]
  },
  {
   "cell_type": "code",
   "execution_count": 2,
   "id": "181db9a5",
   "metadata": {},
   "outputs": [
    {
     "name": "stdout",
     "output_type": "stream",
     "text": [
      "Hello Atul!\n"
     ]
    }
   ],
   "source": [
    "# 2.\n",
    "\n",
    "name = 'Atul chauhan'\n",
    "\n",
    "if name == 'Atul chauhan':\n",
    "    print('Hello Atul!')\n",
    "elif name == 'chauhan':\n",
    "    print('Hello Anuj!')\n",
    "else: \n",
    "    print('Hello Rahul!')"
   ]
  }
 ],
 "metadata": {
  "kernelspec": {
   "display_name": "Python 3 (ipykernel)",
   "language": "python",
   "name": "python3"
  },
  "language_info": {
   "codemirror_mode": {
    "name": "ipython",
    "version": 3
   },
   "file_extension": ".py",
   "mimetype": "text/x-python",
   "name": "python",
   "nbconvert_exporter": "python",
   "pygments_lexer": "ipython3",
   "version": "3.11.4"
  }
 },
 "nbformat": 4,
 "nbformat_minor": 5
}
