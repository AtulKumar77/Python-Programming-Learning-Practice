{
 "cells": [
  {
   "cell_type": "code",
   "execution_count": 3,
   "id": "15baf711",
   "metadata": {},
   "outputs": [
    {
     "name": "stdout",
     "output_type": "stream",
     "text": [
      "mony is cool!\n"
     ]
    }
   ],
   "source": [
    "# if, eiif and else condition in Python :-\n",
    "# 1. \n",
    "\n",
    "loc = 'Bank'\n",
    "\n",
    "if loc == 'Auto Shop':\n",
    "    print('cars are cool!')\n",
    "elif loc == 'Bank':\n",
    "    print('mony is cool!')\n",
    "else:\n",
    "    print('I do Not know much!.')"
   ]
  },
  {
   "cell_type": "code",
   "execution_count": 2,
   "id": "181db9a5",
   "metadata": {},
   "outputs": [
    {
     "name": "stdout",
     "output_type": "stream",
     "text": [
      "Hello Atul!\n"
     ]
    }
   ],
   "source": [
    "# 2.\n",
    "\n",
    "name = 'Atul chauhan'\n",
    "\n",
    "if name == 'Atul chauhan':\n",
    "    print('Hello Atul!')\n",
    "elif name == 'chauhan':\n",
    "    print('Hello Anuj!')\n",
    "else: \n",
    "    print('Hello Rahul!')"
   ]
  },
  {
   "cell_type": "code",
   "execution_count": 2,
   "id": "a61a59ac",
   "metadata": {},
   "outputs": [],
   "source": [
    "# for loop in Python:-\n",
    "\n",
    "mylist = [1,2,3,4,5,6,7,8,9,10]"
   ]
  },
  {
   "cell_type": "code",
   "execution_count": 6,
   "id": "02ebf5f2",
   "metadata": {},
   "outputs": [
    {
     "name": "stdout",
     "output_type": "stream",
     "text": [
      "Hello\n",
      "Hello\n",
      "Hello\n",
      "Hello\n",
      "Hello\n",
      "Hello\n",
      "Hello\n",
      "Hello\n",
      "Hello\n",
      "Hello\n"
     ]
    }
   ],
   "source": [
    "for num in mylist:\n",
    "    print('Hello')"
   ]
  },
  {
   "cell_type": "code",
   "execution_count": 8,
   "id": "61ac7deb",
   "metadata": {},
   "outputs": [
    {
     "name": "stdout",
     "output_type": "stream",
     "text": [
      "Odd Number:1\n",
      "Even Number:2\n",
      "Odd Number:3\n",
      "Even Number:4\n",
      "Odd Number:5\n",
      "Even Number:6\n",
      "Odd Number:7\n",
      "Even Number:8\n",
      "Odd Number:9\n",
      "Even Number:10\n"
     ]
    }
   ],
   "source": [
    "# Check Even or Odd value in Python :-\n",
    "\n",
    "for num in mylist:\n",
    "    if num % 2 == 0:\n",
    "        print(f'Even Number:{num}') \n",
    "    else:\n",
    "        print(f'Odd Number:{num}')"
   ]
  },
  {
   "cell_type": "code",
   "execution_count": 9,
   "id": "61879dd9",
   "metadata": {},
   "outputs": [
    {
     "name": "stdout",
     "output_type": "stream",
     "text": [
      "1\n",
      "2\n",
      "3\n",
      "4\n"
     ]
    }
   ],
   "source": [
    "set = (1,2,3,4)\n",
    "\n",
    "for item in set:\n",
    "    print(item)"
   ]
  },
  {
   "cell_type": "code",
   "execution_count": 12,
   "id": "9309e4c7",
   "metadata": {},
   "outputs": [],
   "source": [
    "mylist = [(1,2),(3,4),(5,6),(7,8)]"
   ]
  },
  {
   "cell_type": "code",
   "execution_count": 13,
   "id": "48a1c62e",
   "metadata": {},
   "outputs": [
    {
     "name": "stdout",
     "output_type": "stream",
     "text": [
      "(1, 2)\n",
      "(3, 4)\n",
      "(5, 6)\n",
      "(7, 8)\n"
     ]
    }
   ],
   "source": [
    "for item in mylist:\n",
    "    print(item)"
   ]
  },
  {
   "cell_type": "code",
   "execution_count": 16,
   "id": "cc124e78",
   "metadata": {},
   "outputs": [
    {
     "name": "stdout",
     "output_type": "stream",
     "text": [
      "('k1', 1)\n",
      "('k2', 2)\n",
      "('k3', 3)\n"
     ]
    }
   ],
   "source": [
    "d = {'k1':1,'k2':2,'k3':3}\n",
    "\n",
    "for item in d.items():\n",
    "    print(item)"
   ]
  },
  {
   "cell_type": "code",
   "execution_count": 19,
   "id": "c7c3fa71",
   "metadata": {},
   "outputs": [
    {
     "name": "stdout",
     "output_type": "stream",
     "text": [
      "The Current value of x is 0\n",
      "The Current value of x is 1\n",
      "The Current value of x is 2\n",
      "The Current value of x is 3\n",
      "The Current value of x is 4\n",
      "X is not less then 5\n"
     ]
    }
   ],
   "source": [
    "# While Loop in Python:-\n",
    "\n",
    "x = 0\n",
    "\n",
    "while x < 5:\n",
    "    print(f'The Current value of x is {x}')\n",
    "    x = x + 1\n",
    "else:\n",
    "    print('X is not less then 5')"
   ]
  },
  {
   "cell_type": "code",
   "execution_count": 23,
   "id": "37c09a8c",
   "metadata": {},
   "outputs": [
    {
     "name": "stdout",
     "output_type": "stream",
     "text": [
      "Hello\n"
     ]
    }
   ],
   "source": [
    "# Pass in python:- \n",
    "x = [1,2,3]\n",
    "\n",
    "for item in x:\n",
    "    pass\n",
    "print('Hello')\n",
    "    "
   ]
  },
  {
   "cell_type": "code",
   "execution_count": 24,
   "id": "bc42a2a1",
   "metadata": {},
   "outputs": [
    {
     "name": "stdout",
     "output_type": "stream",
     "text": [
      "t\n",
      "u\n",
      "l\n"
     ]
    }
   ],
   "source": [
    "# continue in Python:-\n",
    "'a = 'atul'\n",
    "\n",
    "for item in a:\n",
    "    if item == 'a':\n",
    "        continue\n",
    "    print(item)"
   ]
  },
  {
   "cell_type": "code",
   "execution_count": 3,
   "id": "9f5a5fca",
   "metadata": {},
   "outputs": [
    {
     "name": "stdout",
     "output_type": "stream",
     "text": [
      "S\n"
     ]
    }
   ],
   "source": [
    "# Break in Python :-\n",
    "mystring = 'Summy'\n",
    "\n",
    "for item in mystring:\n",
    "    if item == 'u':\n",
    "        break\n",
    "    print(item)"
   ]
  },
  {
   "cell_type": "code",
   "execution_count": 6,
   "id": "b513a08e",
   "metadata": {},
   "outputs": [],
   "source": [
    "# 1.Functions in python :-\n",
    "\n",
    "def say_name():\n",
    "    print('hello')\n",
    "    print('who')\n",
    "    print('are')\n",
    "    print('you')"
   ]
  },
  {
   "cell_type": "code",
   "execution_count": 7,
   "id": "5c81a9d9",
   "metadata": {},
   "outputs": [
    {
     "name": "stdout",
     "output_type": "stream",
     "text": [
      "hello\n",
      "who\n",
      "are\n",
      "you\n"
     ]
    }
   ],
   "source": [
    "say_name()"
   ]
  },
  {
   "cell_type": "code",
   "execution_count": 10,
   "id": "e79ac0fe",
   "metadata": {},
   "outputs": [],
   "source": [
    "# 2.Function in python:-\n",
    "\n",
    "def say_hello(name):\n",
    "    print(f'Hello {name}')"
   ]
  },
  {
   "cell_type": "code",
   "execution_count": 11,
   "id": "5b4b3797",
   "metadata": {},
   "outputs": [
    {
     "name": "stdout",
     "output_type": "stream",
     "text": [
      "Hello atul\n"
     ]
    }
   ],
   "source": [
    "say_hello('atul')"
   ]
  },
  {
   "cell_type": "code",
   "execution_count": 17,
   "id": "898a0cdc",
   "metadata": {},
   "outputs": [],
   "source": [
    "# 3. function in python:-\n",
    "def say_string(name = 'Atul'):\n",
    "    print(f'Hello \\n{name}')"
   ]
  },
  {
   "cell_type": "code",
   "execution_count": 18,
   "id": "439f8cb5",
   "metadata": {},
   "outputs": [
    {
     "name": "stdout",
     "output_type": "stream",
     "text": [
      "Hello \n",
      "Atul\n"
     ]
    }
   ],
   "source": [
    "say_string()"
   ]
  },
  {
   "cell_type": "code",
   "execution_count": 30,
   "id": "fd5bee94",
   "metadata": {},
   "outputs": [],
   "source": [
    "# 4. function in python Peramater pass :-\n",
    "\n",
    "def print_value(num1,num2):\n",
    "    print(num1+num2)"
   ]
  },
  {
   "cell_type": "code",
   "execution_count": 31,
   "id": "e1eb3012",
   "metadata": {},
   "outputs": [
    {
     "name": "stdout",
     "output_type": "stream",
     "text": [
      "25\n"
     ]
    }
   ],
   "source": [
    "add_value(20,5)"
   ]
  },
  {
   "cell_type": "code",
   "execution_count": 32,
   "id": "4f5aaee8",
   "metadata": {},
   "outputs": [],
   "source": [
    "# 5 function in python :-\n",
    "\n",
    "def return_value(num1,num2):\n",
    "    return num1 + num2\n"
   ]
  },
  {
   "cell_type": "code",
   "execution_count": 33,
   "id": "c10871ff",
   "metadata": {},
   "outputs": [
    {
     "data": {
      "text/plain": [
       "50"
      ]
     },
     "execution_count": 33,
     "metadata": {},
     "output_type": "execute_result"
    }
   ],
   "source": [
    "return_value(20,30)"
   ]
  },
  {
   "cell_type": "code",
   "execution_count": 36,
   "id": "2492af78",
   "metadata": {},
   "outputs": [],
   "source": [
    "# 6. even or odd num chech function in python :-\n",
    "\n",
    "def even_check(number):\n",
    "    result = number % 2 == 0\n",
    "    return result"
   ]
  },
  {
   "cell_type": "code",
   "execution_count": 55,
   "id": "2fdce316",
   "metadata": {},
   "outputs": [
    {
     "data": {
      "text/plain": [
       "True"
      ]
     },
     "execution_count": 55,
     "metadata": {},
     "output_type": "execute_result"
    }
   ],
   "source": [
    "even_check(32)"
   ]
  },
  {
   "cell_type": "code",
   "execution_count": 53,
   "id": "642df543",
   "metadata": {},
   "outputs": [],
   "source": [
    "# 7. \n",
    "\n",
    "def check_even_list(num_list):\n",
    "    for number in num_list:\n",
    "        if number % 2 == 0:\n",
    "            return True\n",
    "        else:\n",
    "            pass\n",
    "        return False"
   ]
  },
  {
   "cell_type": "code",
   "execution_count": 54,
   "id": "7ad9abd2",
   "metadata": {},
   "outputs": [
    {
     "data": {
      "text/plain": [
       "True"
      ]
     },
     "execution_count": 54,
     "metadata": {},
     "output_type": "execute_result"
    }
   ],
   "source": [
    "check_even_list([2,3,5,6])"
   ]
  },
  {
   "cell_type": "code",
   "execution_count": 52,
   "id": "d0fd0c28",
   "metadata": {},
   "outputs": [
    {
     "data": {
      "text/plain": [
       "False"
      ]
     },
     "execution_count": 52,
     "metadata": {},
     "output_type": "execute_result"
    }
   ],
   "source": [
    "check_even_list([1,2,3])"
   ]
  },
  {
   "cell_type": "code",
   "execution_count": null,
   "id": "0fc7a78b",
   "metadata": {},
   "outputs": [],
   "source": []
  }
 ],
 "metadata": {
  "kernelspec": {
   "display_name": "Python 3 (ipykernel)",
   "language": "python",
   "name": "python3"
  },
  "language_info": {
   "codemirror_mode": {
    "name": "ipython",
    "version": 3
   },
   "file_extension": ".py",
   "mimetype": "text/x-python",
   "name": "python",
   "nbconvert_exporter": "python",
   "pygments_lexer": "ipython3",
   "version": "3.11.4"
  }
 },
 "nbformat": 4,
 "nbformat_minor": 5
}
